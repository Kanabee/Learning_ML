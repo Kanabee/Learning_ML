{
  "cells": [
    {
      "cell_type": "markdown",
      "metadata": {
        "id": "view-in-github",
        "colab_type": "text"
      },
      "source": [
        "<a href=\"https://colab.research.google.com/github/Kanabee/Learning_ML/blob/main/Weather_predicted.ipynb\" target=\"_parent\"><img src=\"https://colab.research.google.com/assets/colab-badge.svg\" alt=\"Open In Colab\"/></a>"
      ]
    },
    {
      "cell_type": "markdown",
      "id": "5ea7a034",
      "metadata": {
        "id": "5ea7a034"
      },
      "source": [
        "# 1. Import Libraries"
      ]
    },
    {
      "cell_type": "code",
      "execution_count": 317,
      "id": "84e820f1",
      "metadata": {
        "id": "84e820f1"
      },
      "outputs": [],
      "source": [
        "import numpy as np\n",
        "import pandas as pd\n",
        "import matplotlib.pyplot as plt\n",
        "\n",
        "from sklearn.model_selection import train_test_split\n",
        "from sklearn.preprocessing import OrdinalEncoder, OneHotEncoder\n",
        "from sklearn.linear_model import LinearRegression\n",
        "from sklearn.metrics import r2_score, mean_squared_error, mean_absolute_error, mean_absolute_percentage_error\n",
        "\n",
        "import warnings\n",
        "warnings.filterwarnings('ignore')\n",
        "\n",
        "np.random.seed(12345)"
      ]
    },
    {
      "cell_type": "markdown",
      "id": "cc607e70",
      "metadata": {
        "id": "cc607e70"
      },
      "source": [
        "# 2. Read Data"
      ]
    },
    {
      "cell_type": "code",
      "execution_count": 318,
      "id": "48a1e2f2",
      "metadata": {
        "colab": {
          "base_uri": "https://localhost:8080/",
          "height": 0
        },
        "id": "48a1e2f2",
        "outputId": "9607bdb9-1426-4f41-c9da-95c7bfaaa553"
      },
      "outputs": [
        {
          "output_type": "execute_result",
          "data": {
            "text/plain": [
              "    SOIL TYPE  REGION TEMPERATURE WEATHER CONDITION  WATER REQUIREMENT\n",
              "0         DRY  DESERT       10-20            NORMAL               17.0\n",
              "1         DRY  DESERT       10-20             SUNNY               18.5\n",
              "2         DRY  DESERT       10-20             WINDY               18.0\n",
              "3         DRY  DESERT       10-20             RAINY                9.0\n",
              "4         DRY  DESERT       20-30            NORMAL               18.0\n",
              "..        ...     ...         ...               ...                ...\n",
              "187       WET   HUMID       30-40             RAINY                0.5\n",
              "188       WET   HUMID       40-50            NORMAL                7.0\n",
              "189       WET   HUMID       40-50             SUNNY                8.5\n",
              "190       WET   HUMID       40-50             WINDY                8.0\n",
              "191       WET   HUMID       40-50             RAINY                0.8\n",
              "\n",
              "[192 rows x 5 columns]"
            ],
            "text/html": [
              "\n",
              "  <div id=\"df-24b438f7-7701-48ef-a4fe-9b0b776cac50\" class=\"colab-df-container\">\n",
              "    <div>\n",
              "<style scoped>\n",
              "    .dataframe tbody tr th:only-of-type {\n",
              "        vertical-align: middle;\n",
              "    }\n",
              "\n",
              "    .dataframe tbody tr th {\n",
              "        vertical-align: top;\n",
              "    }\n",
              "\n",
              "    .dataframe thead th {\n",
              "        text-align: right;\n",
              "    }\n",
              "</style>\n",
              "<table border=\"1\" class=\"dataframe\">\n",
              "  <thead>\n",
              "    <tr style=\"text-align: right;\">\n",
              "      <th></th>\n",
              "      <th>SOIL TYPE</th>\n",
              "      <th>REGION</th>\n",
              "      <th>TEMPERATURE</th>\n",
              "      <th>WEATHER CONDITION</th>\n",
              "      <th>WATER REQUIREMENT</th>\n",
              "    </tr>\n",
              "  </thead>\n",
              "  <tbody>\n",
              "    <tr>\n",
              "      <th>0</th>\n",
              "      <td>DRY</td>\n",
              "      <td>DESERT</td>\n",
              "      <td>10-20</td>\n",
              "      <td>NORMAL</td>\n",
              "      <td>17.0</td>\n",
              "    </tr>\n",
              "    <tr>\n",
              "      <th>1</th>\n",
              "      <td>DRY</td>\n",
              "      <td>DESERT</td>\n",
              "      <td>10-20</td>\n",
              "      <td>SUNNY</td>\n",
              "      <td>18.5</td>\n",
              "    </tr>\n",
              "    <tr>\n",
              "      <th>2</th>\n",
              "      <td>DRY</td>\n",
              "      <td>DESERT</td>\n",
              "      <td>10-20</td>\n",
              "      <td>WINDY</td>\n",
              "      <td>18.0</td>\n",
              "    </tr>\n",
              "    <tr>\n",
              "      <th>3</th>\n",
              "      <td>DRY</td>\n",
              "      <td>DESERT</td>\n",
              "      <td>10-20</td>\n",
              "      <td>RAINY</td>\n",
              "      <td>9.0</td>\n",
              "    </tr>\n",
              "    <tr>\n",
              "      <th>4</th>\n",
              "      <td>DRY</td>\n",
              "      <td>DESERT</td>\n",
              "      <td>20-30</td>\n",
              "      <td>NORMAL</td>\n",
              "      <td>18.0</td>\n",
              "    </tr>\n",
              "    <tr>\n",
              "      <th>...</th>\n",
              "      <td>...</td>\n",
              "      <td>...</td>\n",
              "      <td>...</td>\n",
              "      <td>...</td>\n",
              "      <td>...</td>\n",
              "    </tr>\n",
              "    <tr>\n",
              "      <th>187</th>\n",
              "      <td>WET</td>\n",
              "      <td>HUMID</td>\n",
              "      <td>30-40</td>\n",
              "      <td>RAINY</td>\n",
              "      <td>0.5</td>\n",
              "    </tr>\n",
              "    <tr>\n",
              "      <th>188</th>\n",
              "      <td>WET</td>\n",
              "      <td>HUMID</td>\n",
              "      <td>40-50</td>\n",
              "      <td>NORMAL</td>\n",
              "      <td>7.0</td>\n",
              "    </tr>\n",
              "    <tr>\n",
              "      <th>189</th>\n",
              "      <td>WET</td>\n",
              "      <td>HUMID</td>\n",
              "      <td>40-50</td>\n",
              "      <td>SUNNY</td>\n",
              "      <td>8.5</td>\n",
              "    </tr>\n",
              "    <tr>\n",
              "      <th>190</th>\n",
              "      <td>WET</td>\n",
              "      <td>HUMID</td>\n",
              "      <td>40-50</td>\n",
              "      <td>WINDY</td>\n",
              "      <td>8.0</td>\n",
              "    </tr>\n",
              "    <tr>\n",
              "      <th>191</th>\n",
              "      <td>WET</td>\n",
              "      <td>HUMID</td>\n",
              "      <td>40-50</td>\n",
              "      <td>RAINY</td>\n",
              "      <td>0.8</td>\n",
              "    </tr>\n",
              "  </tbody>\n",
              "</table>\n",
              "<p>192 rows × 5 columns</p>\n",
              "</div>\n",
              "    <div class=\"colab-df-buttons\">\n",
              "\n",
              "  <div class=\"colab-df-container\">\n",
              "    <button class=\"colab-df-convert\" onclick=\"convertToInteractive('df-24b438f7-7701-48ef-a4fe-9b0b776cac50')\"\n",
              "            title=\"Convert this dataframe to an interactive table.\"\n",
              "            style=\"display:none;\">\n",
              "\n",
              "  <svg xmlns=\"http://www.w3.org/2000/svg\" height=\"24px\" viewBox=\"0 -960 960 960\">\n",
              "    <path d=\"M120-120v-720h720v720H120Zm60-500h600v-160H180v160Zm220 220h160v-160H400v160Zm0 220h160v-160H400v160ZM180-400h160v-160H180v160Zm440 0h160v-160H620v160ZM180-180h160v-160H180v160Zm440 0h160v-160H620v160Z\"/>\n",
              "  </svg>\n",
              "    </button>\n",
              "\n",
              "  <style>\n",
              "    .colab-df-container {\n",
              "      display:flex;\n",
              "      gap: 12px;\n",
              "    }\n",
              "\n",
              "    .colab-df-convert {\n",
              "      background-color: #E8F0FE;\n",
              "      border: none;\n",
              "      border-radius: 50%;\n",
              "      cursor: pointer;\n",
              "      display: none;\n",
              "      fill: #1967D2;\n",
              "      height: 32px;\n",
              "      padding: 0 0 0 0;\n",
              "      width: 32px;\n",
              "    }\n",
              "\n",
              "    .colab-df-convert:hover {\n",
              "      background-color: #E2EBFA;\n",
              "      box-shadow: 0px 1px 2px rgba(60, 64, 67, 0.3), 0px 1px 3px 1px rgba(60, 64, 67, 0.15);\n",
              "      fill: #174EA6;\n",
              "    }\n",
              "\n",
              "    .colab-df-buttons div {\n",
              "      margin-bottom: 4px;\n",
              "    }\n",
              "\n",
              "    [theme=dark] .colab-df-convert {\n",
              "      background-color: #3B4455;\n",
              "      fill: #D2E3FC;\n",
              "    }\n",
              "\n",
              "    [theme=dark] .colab-df-convert:hover {\n",
              "      background-color: #434B5C;\n",
              "      box-shadow: 0px 1px 3px 1px rgba(0, 0, 0, 0.15);\n",
              "      filter: drop-shadow(0px 1px 2px rgba(0, 0, 0, 0.3));\n",
              "      fill: #FFFFFF;\n",
              "    }\n",
              "  </style>\n",
              "\n",
              "    <script>\n",
              "      const buttonEl =\n",
              "        document.querySelector('#df-24b438f7-7701-48ef-a4fe-9b0b776cac50 button.colab-df-convert');\n",
              "      buttonEl.style.display =\n",
              "        google.colab.kernel.accessAllowed ? 'block' : 'none';\n",
              "\n",
              "      async function convertToInteractive(key) {\n",
              "        const element = document.querySelector('#df-24b438f7-7701-48ef-a4fe-9b0b776cac50');\n",
              "        const dataTable =\n",
              "          await google.colab.kernel.invokeFunction('convertToInteractive',\n",
              "                                                    [key], {});\n",
              "        if (!dataTable) return;\n",
              "\n",
              "        const docLinkHtml = 'Like what you see? Visit the ' +\n",
              "          '<a target=\"_blank\" href=https://colab.research.google.com/notebooks/data_table.ipynb>data table notebook</a>'\n",
              "          + ' to learn more about interactive tables.';\n",
              "        element.innerHTML = '';\n",
              "        dataTable['output_type'] = 'display_data';\n",
              "        await google.colab.output.renderOutput(dataTable, element);\n",
              "        const docLink = document.createElement('div');\n",
              "        docLink.innerHTML = docLinkHtml;\n",
              "        element.appendChild(docLink);\n",
              "      }\n",
              "    </script>\n",
              "  </div>\n",
              "\n",
              "\n",
              "<div id=\"df-e478c726-b5b8-419a-a379-f196ce1de6af\">\n",
              "  <button class=\"colab-df-quickchart\" onclick=\"quickchart('df-e478c726-b5b8-419a-a379-f196ce1de6af')\"\n",
              "            title=\"Suggest charts\"\n",
              "            style=\"display:none;\">\n",
              "\n",
              "<svg xmlns=\"http://www.w3.org/2000/svg\" height=\"24px\"viewBox=\"0 0 24 24\"\n",
              "     width=\"24px\">\n",
              "    <g>\n",
              "        <path d=\"M19 3H5c-1.1 0-2 .9-2 2v14c0 1.1.9 2 2 2h14c1.1 0 2-.9 2-2V5c0-1.1-.9-2-2-2zM9 17H7v-7h2v7zm4 0h-2V7h2v10zm4 0h-2v-4h2v4z\"/>\n",
              "    </g>\n",
              "</svg>\n",
              "  </button>\n",
              "\n",
              "<style>\n",
              "  .colab-df-quickchart {\n",
              "      --bg-color: #E8F0FE;\n",
              "      --fill-color: #1967D2;\n",
              "      --hover-bg-color: #E2EBFA;\n",
              "      --hover-fill-color: #174EA6;\n",
              "      --disabled-fill-color: #AAA;\n",
              "      --disabled-bg-color: #DDD;\n",
              "  }\n",
              "\n",
              "  [theme=dark] .colab-df-quickchart {\n",
              "      --bg-color: #3B4455;\n",
              "      --fill-color: #D2E3FC;\n",
              "      --hover-bg-color: #434B5C;\n",
              "      --hover-fill-color: #FFFFFF;\n",
              "      --disabled-bg-color: #3B4455;\n",
              "      --disabled-fill-color: #666;\n",
              "  }\n",
              "\n",
              "  .colab-df-quickchart {\n",
              "    background-color: var(--bg-color);\n",
              "    border: none;\n",
              "    border-radius: 50%;\n",
              "    cursor: pointer;\n",
              "    display: none;\n",
              "    fill: var(--fill-color);\n",
              "    height: 32px;\n",
              "    padding: 0;\n",
              "    width: 32px;\n",
              "  }\n",
              "\n",
              "  .colab-df-quickchart:hover {\n",
              "    background-color: var(--hover-bg-color);\n",
              "    box-shadow: 0 1px 2px rgba(60, 64, 67, 0.3), 0 1px 3px 1px rgba(60, 64, 67, 0.15);\n",
              "    fill: var(--button-hover-fill-color);\n",
              "  }\n",
              "\n",
              "  .colab-df-quickchart-complete:disabled,\n",
              "  .colab-df-quickchart-complete:disabled:hover {\n",
              "    background-color: var(--disabled-bg-color);\n",
              "    fill: var(--disabled-fill-color);\n",
              "    box-shadow: none;\n",
              "  }\n",
              "\n",
              "  .colab-df-spinner {\n",
              "    border: 2px solid var(--fill-color);\n",
              "    border-color: transparent;\n",
              "    border-bottom-color: var(--fill-color);\n",
              "    animation:\n",
              "      spin 1s steps(1) infinite;\n",
              "  }\n",
              "\n",
              "  @keyframes spin {\n",
              "    0% {\n",
              "      border-color: transparent;\n",
              "      border-bottom-color: var(--fill-color);\n",
              "      border-left-color: var(--fill-color);\n",
              "    }\n",
              "    20% {\n",
              "      border-color: transparent;\n",
              "      border-left-color: var(--fill-color);\n",
              "      border-top-color: var(--fill-color);\n",
              "    }\n",
              "    30% {\n",
              "      border-color: transparent;\n",
              "      border-left-color: var(--fill-color);\n",
              "      border-top-color: var(--fill-color);\n",
              "      border-right-color: var(--fill-color);\n",
              "    }\n",
              "    40% {\n",
              "      border-color: transparent;\n",
              "      border-right-color: var(--fill-color);\n",
              "      border-top-color: var(--fill-color);\n",
              "    }\n",
              "    60% {\n",
              "      border-color: transparent;\n",
              "      border-right-color: var(--fill-color);\n",
              "    }\n",
              "    80% {\n",
              "      border-color: transparent;\n",
              "      border-right-color: var(--fill-color);\n",
              "      border-bottom-color: var(--fill-color);\n",
              "    }\n",
              "    90% {\n",
              "      border-color: transparent;\n",
              "      border-bottom-color: var(--fill-color);\n",
              "    }\n",
              "  }\n",
              "</style>\n",
              "\n",
              "  <script>\n",
              "    async function quickchart(key) {\n",
              "      const quickchartButtonEl =\n",
              "        document.querySelector('#' + key + ' button');\n",
              "      quickchartButtonEl.disabled = true;  // To prevent multiple clicks.\n",
              "      quickchartButtonEl.classList.add('colab-df-spinner');\n",
              "      try {\n",
              "        const charts = await google.colab.kernel.invokeFunction(\n",
              "            'suggestCharts', [key], {});\n",
              "      } catch (error) {\n",
              "        console.error('Error during call to suggestCharts:', error);\n",
              "      }\n",
              "      quickchartButtonEl.classList.remove('colab-df-spinner');\n",
              "      quickchartButtonEl.classList.add('colab-df-quickchart-complete');\n",
              "    }\n",
              "    (() => {\n",
              "      let quickchartButtonEl =\n",
              "        document.querySelector('#df-e478c726-b5b8-419a-a379-f196ce1de6af button');\n",
              "      quickchartButtonEl.style.display =\n",
              "        google.colab.kernel.accessAllowed ? 'block' : 'none';\n",
              "    })();\n",
              "  </script>\n",
              "</div>\n",
              "    </div>\n",
              "  </div>\n"
            ]
          },
          "metadata": {},
          "execution_count": 318
        }
      ],
      "source": [
        "data = pd.read_excel('rice_dataset.xlsx')\n",
        "\n",
        "data"
      ]
    },
    {
      "cell_type": "markdown",
      "id": "9a68818c",
      "metadata": {
        "id": "9a68818c"
      },
      "source": [
        "# 3. Clean Data"
      ]
    },
    {
      "cell_type": "markdown",
      "id": "9ece2754",
      "metadata": {
        "id": "9ece2754"
      },
      "source": [
        "## 3.1. Handle Missing Values"
      ]
    },
    {
      "cell_type": "markdown",
      "id": "a086e3fb",
      "metadata": {
        "id": "a086e3fb"
      },
      "source": [
        "### 3.1.1. Check Missing Values"
      ]
    },
    {
      "cell_type": "code",
      "execution_count": 319,
      "id": "a3e7a12e",
      "metadata": {
        "colab": {
          "base_uri": "https://localhost:8080/"
        },
        "id": "a3e7a12e",
        "outputId": "68e8dbf1-6692-49a8-a8c2-77ad6c981fd9"
      },
      "outputs": [
        {
          "output_type": "stream",
          "name": "stdout",
          "text": [
            "<class 'pandas.core.frame.DataFrame'>\n",
            "RangeIndex: 192 entries, 0 to 191\n",
            "Data columns (total 5 columns):\n",
            " #   Column             Non-Null Count  Dtype  \n",
            "---  ------             --------------  -----  \n",
            " 0   SOIL TYPE          192 non-null    object \n",
            " 1   REGION             192 non-null    object \n",
            " 2   TEMPERATURE        192 non-null    object \n",
            " 3   WEATHER CONDITION  192 non-null    object \n",
            " 4   WATER REQUIREMENT  192 non-null    float64\n",
            "dtypes: float64(1), object(4)\n",
            "memory usage: 7.6+ KB\n"
          ]
        }
      ],
      "source": [
        "data.info()"
      ]
    },
    {
      "cell_type": "markdown",
      "id": "1b59b570",
      "metadata": {
        "id": "1b59b570"
      },
      "source": [
        "### 3.1.2. Remove Missing Values (Listwise Deletion)"
      ]
    },
    {
      "cell_type": "code",
      "execution_count": 320,
      "id": "befd6a30",
      "metadata": {
        "id": "befd6a30"
      },
      "outputs": [],
      "source": [
        "# no NaN to remove\n",
        "# data.dropna(axis=0, inplace=True)"
      ]
    },
    {
      "cell_type": "markdown",
      "id": "3a2ea7d2",
      "metadata": {
        "id": "3a2ea7d2"
      },
      "source": [
        "## 3.2. Handle Outliers"
      ]
    },
    {
      "cell_type": "markdown",
      "id": "60115f70",
      "metadata": {
        "id": "60115f70"
      },
      "source": [
        "### 3.2.1. Check Outliers"
      ]
    },
    {
      "cell_type": "code",
      "execution_count": 321,
      "id": "59fc1023",
      "metadata": {
        "colab": {
          "base_uri": "https://localhost:8080/",
          "height": 0
        },
        "id": "59fc1023",
        "outputId": "63637342-17f1-4ff9-bda5-f419541ca6b7"
      },
      "outputs": [
        {
          "output_type": "execute_result",
          "data": {
            "text/plain": [
              "       WATER REQUIREMENT\n",
              "count         192.000000\n",
              "mean           10.800521\n",
              "std             5.240124\n",
              "min             0.200000\n",
              "25%             7.375000\n",
              "50%            11.000000\n",
              "75%            14.500000\n",
              "max            21.500000"
            ],
            "text/html": [
              "\n",
              "  <div id=\"df-5a6c316e-8305-4ac2-a871-56dec9ac2f78\" class=\"colab-df-container\">\n",
              "    <div>\n",
              "<style scoped>\n",
              "    .dataframe tbody tr th:only-of-type {\n",
              "        vertical-align: middle;\n",
              "    }\n",
              "\n",
              "    .dataframe tbody tr th {\n",
              "        vertical-align: top;\n",
              "    }\n",
              "\n",
              "    .dataframe thead th {\n",
              "        text-align: right;\n",
              "    }\n",
              "</style>\n",
              "<table border=\"1\" class=\"dataframe\">\n",
              "  <thead>\n",
              "    <tr style=\"text-align: right;\">\n",
              "      <th></th>\n",
              "      <th>WATER REQUIREMENT</th>\n",
              "    </tr>\n",
              "  </thead>\n",
              "  <tbody>\n",
              "    <tr>\n",
              "      <th>count</th>\n",
              "      <td>192.000000</td>\n",
              "    </tr>\n",
              "    <tr>\n",
              "      <th>mean</th>\n",
              "      <td>10.800521</td>\n",
              "    </tr>\n",
              "    <tr>\n",
              "      <th>std</th>\n",
              "      <td>5.240124</td>\n",
              "    </tr>\n",
              "    <tr>\n",
              "      <th>min</th>\n",
              "      <td>0.200000</td>\n",
              "    </tr>\n",
              "    <tr>\n",
              "      <th>25%</th>\n",
              "      <td>7.375000</td>\n",
              "    </tr>\n",
              "    <tr>\n",
              "      <th>50%</th>\n",
              "      <td>11.000000</td>\n",
              "    </tr>\n",
              "    <tr>\n",
              "      <th>75%</th>\n",
              "      <td>14.500000</td>\n",
              "    </tr>\n",
              "    <tr>\n",
              "      <th>max</th>\n",
              "      <td>21.500000</td>\n",
              "    </tr>\n",
              "  </tbody>\n",
              "</table>\n",
              "</div>\n",
              "    <div class=\"colab-df-buttons\">\n",
              "\n",
              "  <div class=\"colab-df-container\">\n",
              "    <button class=\"colab-df-convert\" onclick=\"convertToInteractive('df-5a6c316e-8305-4ac2-a871-56dec9ac2f78')\"\n",
              "            title=\"Convert this dataframe to an interactive table.\"\n",
              "            style=\"display:none;\">\n",
              "\n",
              "  <svg xmlns=\"http://www.w3.org/2000/svg\" height=\"24px\" viewBox=\"0 -960 960 960\">\n",
              "    <path d=\"M120-120v-720h720v720H120Zm60-500h600v-160H180v160Zm220 220h160v-160H400v160Zm0 220h160v-160H400v160ZM180-400h160v-160H180v160Zm440 0h160v-160H620v160ZM180-180h160v-160H180v160Zm440 0h160v-160H620v160Z\"/>\n",
              "  </svg>\n",
              "    </button>\n",
              "\n",
              "  <style>\n",
              "    .colab-df-container {\n",
              "      display:flex;\n",
              "      gap: 12px;\n",
              "    }\n",
              "\n",
              "    .colab-df-convert {\n",
              "      background-color: #E8F0FE;\n",
              "      border: none;\n",
              "      border-radius: 50%;\n",
              "      cursor: pointer;\n",
              "      display: none;\n",
              "      fill: #1967D2;\n",
              "      height: 32px;\n",
              "      padding: 0 0 0 0;\n",
              "      width: 32px;\n",
              "    }\n",
              "\n",
              "    .colab-df-convert:hover {\n",
              "      background-color: #E2EBFA;\n",
              "      box-shadow: 0px 1px 2px rgba(60, 64, 67, 0.3), 0px 1px 3px 1px rgba(60, 64, 67, 0.15);\n",
              "      fill: #174EA6;\n",
              "    }\n",
              "\n",
              "    .colab-df-buttons div {\n",
              "      margin-bottom: 4px;\n",
              "    }\n",
              "\n",
              "    [theme=dark] .colab-df-convert {\n",
              "      background-color: #3B4455;\n",
              "      fill: #D2E3FC;\n",
              "    }\n",
              "\n",
              "    [theme=dark] .colab-df-convert:hover {\n",
              "      background-color: #434B5C;\n",
              "      box-shadow: 0px 1px 3px 1px rgba(0, 0, 0, 0.15);\n",
              "      filter: drop-shadow(0px 1px 2px rgba(0, 0, 0, 0.3));\n",
              "      fill: #FFFFFF;\n",
              "    }\n",
              "  </style>\n",
              "\n",
              "    <script>\n",
              "      const buttonEl =\n",
              "        document.querySelector('#df-5a6c316e-8305-4ac2-a871-56dec9ac2f78 button.colab-df-convert');\n",
              "      buttonEl.style.display =\n",
              "        google.colab.kernel.accessAllowed ? 'block' : 'none';\n",
              "\n",
              "      async function convertToInteractive(key) {\n",
              "        const element = document.querySelector('#df-5a6c316e-8305-4ac2-a871-56dec9ac2f78');\n",
              "        const dataTable =\n",
              "          await google.colab.kernel.invokeFunction('convertToInteractive',\n",
              "                                                    [key], {});\n",
              "        if (!dataTable) return;\n",
              "\n",
              "        const docLinkHtml = 'Like what you see? Visit the ' +\n",
              "          '<a target=\"_blank\" href=https://colab.research.google.com/notebooks/data_table.ipynb>data table notebook</a>'\n",
              "          + ' to learn more about interactive tables.';\n",
              "        element.innerHTML = '';\n",
              "        dataTable['output_type'] = 'display_data';\n",
              "        await google.colab.output.renderOutput(dataTable, element);\n",
              "        const docLink = document.createElement('div');\n",
              "        docLink.innerHTML = docLinkHtml;\n",
              "        element.appendChild(docLink);\n",
              "      }\n",
              "    </script>\n",
              "  </div>\n",
              "\n",
              "\n",
              "<div id=\"df-a8a33312-0d74-423e-a62b-5652e734be03\">\n",
              "  <button class=\"colab-df-quickchart\" onclick=\"quickchart('df-a8a33312-0d74-423e-a62b-5652e734be03')\"\n",
              "            title=\"Suggest charts\"\n",
              "            style=\"display:none;\">\n",
              "\n",
              "<svg xmlns=\"http://www.w3.org/2000/svg\" height=\"24px\"viewBox=\"0 0 24 24\"\n",
              "     width=\"24px\">\n",
              "    <g>\n",
              "        <path d=\"M19 3H5c-1.1 0-2 .9-2 2v14c0 1.1.9 2 2 2h14c1.1 0 2-.9 2-2V5c0-1.1-.9-2-2-2zM9 17H7v-7h2v7zm4 0h-2V7h2v10zm4 0h-2v-4h2v4z\"/>\n",
              "    </g>\n",
              "</svg>\n",
              "  </button>\n",
              "\n",
              "<style>\n",
              "  .colab-df-quickchart {\n",
              "      --bg-color: #E8F0FE;\n",
              "      --fill-color: #1967D2;\n",
              "      --hover-bg-color: #E2EBFA;\n",
              "      --hover-fill-color: #174EA6;\n",
              "      --disabled-fill-color: #AAA;\n",
              "      --disabled-bg-color: #DDD;\n",
              "  }\n",
              "\n",
              "  [theme=dark] .colab-df-quickchart {\n",
              "      --bg-color: #3B4455;\n",
              "      --fill-color: #D2E3FC;\n",
              "      --hover-bg-color: #434B5C;\n",
              "      --hover-fill-color: #FFFFFF;\n",
              "      --disabled-bg-color: #3B4455;\n",
              "      --disabled-fill-color: #666;\n",
              "  }\n",
              "\n",
              "  .colab-df-quickchart {\n",
              "    background-color: var(--bg-color);\n",
              "    border: none;\n",
              "    border-radius: 50%;\n",
              "    cursor: pointer;\n",
              "    display: none;\n",
              "    fill: var(--fill-color);\n",
              "    height: 32px;\n",
              "    padding: 0;\n",
              "    width: 32px;\n",
              "  }\n",
              "\n",
              "  .colab-df-quickchart:hover {\n",
              "    background-color: var(--hover-bg-color);\n",
              "    box-shadow: 0 1px 2px rgba(60, 64, 67, 0.3), 0 1px 3px 1px rgba(60, 64, 67, 0.15);\n",
              "    fill: var(--button-hover-fill-color);\n",
              "  }\n",
              "\n",
              "  .colab-df-quickchart-complete:disabled,\n",
              "  .colab-df-quickchart-complete:disabled:hover {\n",
              "    background-color: var(--disabled-bg-color);\n",
              "    fill: var(--disabled-fill-color);\n",
              "    box-shadow: none;\n",
              "  }\n",
              "\n",
              "  .colab-df-spinner {\n",
              "    border: 2px solid var(--fill-color);\n",
              "    border-color: transparent;\n",
              "    border-bottom-color: var(--fill-color);\n",
              "    animation:\n",
              "      spin 1s steps(1) infinite;\n",
              "  }\n",
              "\n",
              "  @keyframes spin {\n",
              "    0% {\n",
              "      border-color: transparent;\n",
              "      border-bottom-color: var(--fill-color);\n",
              "      border-left-color: var(--fill-color);\n",
              "    }\n",
              "    20% {\n",
              "      border-color: transparent;\n",
              "      border-left-color: var(--fill-color);\n",
              "      border-top-color: var(--fill-color);\n",
              "    }\n",
              "    30% {\n",
              "      border-color: transparent;\n",
              "      border-left-color: var(--fill-color);\n",
              "      border-top-color: var(--fill-color);\n",
              "      border-right-color: var(--fill-color);\n",
              "    }\n",
              "    40% {\n",
              "      border-color: transparent;\n",
              "      border-right-color: var(--fill-color);\n",
              "      border-top-color: var(--fill-color);\n",
              "    }\n",
              "    60% {\n",
              "      border-color: transparent;\n",
              "      border-right-color: var(--fill-color);\n",
              "    }\n",
              "    80% {\n",
              "      border-color: transparent;\n",
              "      border-right-color: var(--fill-color);\n",
              "      border-bottom-color: var(--fill-color);\n",
              "    }\n",
              "    90% {\n",
              "      border-color: transparent;\n",
              "      border-bottom-color: var(--fill-color);\n",
              "    }\n",
              "  }\n",
              "</style>\n",
              "\n",
              "  <script>\n",
              "    async function quickchart(key) {\n",
              "      const quickchartButtonEl =\n",
              "        document.querySelector('#' + key + ' button');\n",
              "      quickchartButtonEl.disabled = true;  // To prevent multiple clicks.\n",
              "      quickchartButtonEl.classList.add('colab-df-spinner');\n",
              "      try {\n",
              "        const charts = await google.colab.kernel.invokeFunction(\n",
              "            'suggestCharts', [key], {});\n",
              "      } catch (error) {\n",
              "        console.error('Error during call to suggestCharts:', error);\n",
              "      }\n",
              "      quickchartButtonEl.classList.remove('colab-df-spinner');\n",
              "      quickchartButtonEl.classList.add('colab-df-quickchart-complete');\n",
              "    }\n",
              "    (() => {\n",
              "      let quickchartButtonEl =\n",
              "        document.querySelector('#df-a8a33312-0d74-423e-a62b-5652e734be03 button');\n",
              "      quickchartButtonEl.style.display =\n",
              "        google.colab.kernel.accessAllowed ? 'block' : 'none';\n",
              "    })();\n",
              "  </script>\n",
              "</div>\n",
              "    </div>\n",
              "  </div>\n"
            ]
          },
          "metadata": {},
          "execution_count": 321
        }
      ],
      "source": [
        "data.describe()"
      ]
    },
    {
      "cell_type": "markdown",
      "id": "6c5bce81",
      "metadata": {
        "id": "6c5bce81"
      },
      "source": [
        "### 3.2.2. Remove Outliers"
      ]
    },
    {
      "cell_type": "code",
      "execution_count": 322,
      "id": "ba24b484",
      "metadata": {
        "id": "ba24b484"
      },
      "outputs": [],
      "source": [
        "# no outlier to remove"
      ]
    },
    {
      "cell_type": "markdown",
      "id": "4cae4259",
      "metadata": {
        "id": "4cae4259"
      },
      "source": [
        "# 4. Split Dataset into Training & Test Sets"
      ]
    },
    {
      "cell_type": "code",
      "execution_count": 323,
      "id": "d2762b24",
      "metadata": {
        "id": "d2762b24"
      },
      "outputs": [],
      "source": [
        "target_name = 'WATER REQUIREMENT'\n",
        "feature_name = list(data.columns.drop(target_name))"
      ]
    },
    {
      "cell_type": "code",
      "execution_count": 324,
      "id": "202583b5",
      "metadata": {
        "id": "202583b5"
      },
      "outputs": [],
      "source": [
        "X = data[feature_name]\n",
        "y = data[target_name]"
      ]
    },
    {
      "cell_type": "code",
      "execution_count": 325,
      "id": "aac9a045",
      "metadata": {
        "id": "aac9a045"
      },
      "outputs": [],
      "source": [
        "X_train, X_test, y_train, y_test = train_test_split(X, y, test_size=0.20, shuffle=True)"
      ]
    },
    {
      "cell_type": "markdown",
      "id": "28fd8901",
      "metadata": {
        "id": "28fd8901"
      },
      "source": [
        "# 5. Data Preparation"
      ]
    },
    {
      "cell_type": "code",
      "execution_count": 326,
      "id": "355e318b",
      "metadata": {
        "id": "355e318b"
      },
      "outputs": [],
      "source": [
        "numerical_feature = []\n",
        "categorical_feature = ['SOIL TYPE', 'REGION', 'TEMPERATURE', 'WEATHER CONDITION']"
      ]
    },
    {
      "cell_type": "code",
      "execution_count": 327,
      "id": "9d600ba9",
      "metadata": {
        "colab": {
          "base_uri": "https://localhost:8080/"
        },
        "id": "9d600ba9",
        "outputId": "c8a146bd-79ba-4423-e62e-621c79d2c0a5"
      },
      "outputs": [
        {
          "output_type": "stream",
          "name": "stdout",
          "text": [
            "SOIL TYPE : ['DRY' 'HUMID' 'WET']\n",
            "REGION : ['DESERT' 'HUMID' 'SEMI ARID' 'SEMI HUMID']\n",
            "TEMPERATURE : ['10-20' '20-30' '30-40' '40-50']\n",
            "WEATHER CONDITION : ['NORMAL' 'RAINY' 'SUNNY' 'WINDY']\n"
          ]
        }
      ],
      "source": [
        "for feature in categorical_feature:\n",
        "    print(feature, ':', np.unique(X_train[feature]))"
      ]
    },
    {
      "cell_type": "code",
      "execution_count": 328,
      "id": "fc9b67d4",
      "metadata": {
        "id": "fc9b67d4"
      },
      "outputs": [],
      "source": [
        "ordinal_feature = ['SOIL TYPE', 'REGION', 'TEMPERATURE']\n",
        "nominal_feature = ['WEATHER CONDITION']"
      ]
    },
    {
      "cell_type": "markdown",
      "id": "49ba1fec",
      "metadata": {
        "id": "49ba1fec"
      },
      "source": [
        "## 5.1. Ordinal Encoding"
      ]
    },
    {
      "cell_type": "markdown",
      "id": "78d4f4e2",
      "metadata": {
        "id": "78d4f4e2"
      },
      "source": [
        "### 5.1.1. Training Set"
      ]
    },
    {
      "cell_type": "code",
      "execution_count": 329,
      "id": "2c4e9d50",
      "metadata": {
        "id": "2c4e9d50"
      },
      "outputs": [],
      "source": [
        "categories = [\n",
        "    np.array(['DRY', 'HUMID', 'WET'], dtype=object),\n",
        "    np.array(['DESERT', 'SEMI ARID', 'SEMI HUMID', 'HUMID'], dtype=object),\n",
        "    np.array(['10-20', '20-30', '30-40', '40-50'], dtype=object)\n",
        "]"
      ]
    },
    {
      "cell_type": "code",
      "execution_count": 330,
      "id": "9ef0a15a",
      "metadata": {
        "id": "9ef0a15a"
      },
      "outputs": [],
      "source": [
        "ordinal_encoder = OrdinalEncoder(categories=categories)\n",
        "X_train[ordinal_feature] = ordinal_encoder.fit_transform(X_train[ordinal_feature])"
      ]
    },
    {
      "cell_type": "markdown",
      "id": "984f9573",
      "metadata": {
        "id": "984f9573"
      },
      "source": [
        "### 5.1.2. Test Set"
      ]
    },
    {
      "cell_type": "code",
      "execution_count": 331,
      "id": "93b526eb",
      "metadata": {
        "id": "93b526eb"
      },
      "outputs": [],
      "source": [
        "X_test[ordinal_feature] = ordinal_encoder.transform(X_test[ordinal_feature])"
      ]
    },
    {
      "cell_type": "markdown",
      "id": "66cb7d68",
      "metadata": {
        "id": "66cb7d68"
      },
      "source": [
        "## 5.2. One Hot Encoding"
      ]
    },
    {
      "cell_type": "markdown",
      "id": "2fc98fd1",
      "metadata": {
        "id": "2fc98fd1"
      },
      "source": [
        "### 5.2.1. Training Set"
      ]
    },
    {
      "cell_type": "code",
      "execution_count": 332,
      "id": "a768474a",
      "metadata": {
        "colab": {
          "base_uri": "https://localhost:8080/",
          "height": 75
        },
        "id": "a768474a",
        "outputId": "5db636c9-62ea-44c0-fab0-409b1d2cbf5e"
      },
      "outputs": [
        {
          "output_type": "execute_result",
          "data": {
            "text/plain": [
              "OneHotEncoder(handle_unknown='ignore', sparse=False, sparse_output=False)"
            ],
            "text/html": [
              "<style>#sk-container-id-14 {color: black;background-color: white;}#sk-container-id-14 pre{padding: 0;}#sk-container-id-14 div.sk-toggleable {background-color: white;}#sk-container-id-14 label.sk-toggleable__label {cursor: pointer;display: block;width: 100%;margin-bottom: 0;padding: 0.3em;box-sizing: border-box;text-align: center;}#sk-container-id-14 label.sk-toggleable__label-arrow:before {content: \"▸\";float: left;margin-right: 0.25em;color: #696969;}#sk-container-id-14 label.sk-toggleable__label-arrow:hover:before {color: black;}#sk-container-id-14 div.sk-estimator:hover label.sk-toggleable__label-arrow:before {color: black;}#sk-container-id-14 div.sk-toggleable__content {max-height: 0;max-width: 0;overflow: hidden;text-align: left;background-color: #f0f8ff;}#sk-container-id-14 div.sk-toggleable__content pre {margin: 0.2em;color: black;border-radius: 0.25em;background-color: #f0f8ff;}#sk-container-id-14 input.sk-toggleable__control:checked~div.sk-toggleable__content {max-height: 200px;max-width: 100%;overflow: auto;}#sk-container-id-14 input.sk-toggleable__control:checked~label.sk-toggleable__label-arrow:before {content: \"▾\";}#sk-container-id-14 div.sk-estimator input.sk-toggleable__control:checked~label.sk-toggleable__label {background-color: #d4ebff;}#sk-container-id-14 div.sk-label input.sk-toggleable__control:checked~label.sk-toggleable__label {background-color: #d4ebff;}#sk-container-id-14 input.sk-hidden--visually {border: 0;clip: rect(1px 1px 1px 1px);clip: rect(1px, 1px, 1px, 1px);height: 1px;margin: -1px;overflow: hidden;padding: 0;position: absolute;width: 1px;}#sk-container-id-14 div.sk-estimator {font-family: monospace;background-color: #f0f8ff;border: 1px dotted black;border-radius: 0.25em;box-sizing: border-box;margin-bottom: 0.5em;}#sk-container-id-14 div.sk-estimator:hover {background-color: #d4ebff;}#sk-container-id-14 div.sk-parallel-item::after {content: \"\";width: 100%;border-bottom: 1px solid gray;flex-grow: 1;}#sk-container-id-14 div.sk-label:hover label.sk-toggleable__label {background-color: #d4ebff;}#sk-container-id-14 div.sk-serial::before {content: \"\";position: absolute;border-left: 1px solid gray;box-sizing: border-box;top: 0;bottom: 0;left: 50%;z-index: 0;}#sk-container-id-14 div.sk-serial {display: flex;flex-direction: column;align-items: center;background-color: white;padding-right: 0.2em;padding-left: 0.2em;position: relative;}#sk-container-id-14 div.sk-item {position: relative;z-index: 1;}#sk-container-id-14 div.sk-parallel {display: flex;align-items: stretch;justify-content: center;background-color: white;position: relative;}#sk-container-id-14 div.sk-item::before, #sk-container-id-14 div.sk-parallel-item::before {content: \"\";position: absolute;border-left: 1px solid gray;box-sizing: border-box;top: 0;bottom: 0;left: 50%;z-index: -1;}#sk-container-id-14 div.sk-parallel-item {display: flex;flex-direction: column;z-index: 1;position: relative;background-color: white;}#sk-container-id-14 div.sk-parallel-item:first-child::after {align-self: flex-end;width: 50%;}#sk-container-id-14 div.sk-parallel-item:last-child::after {align-self: flex-start;width: 50%;}#sk-container-id-14 div.sk-parallel-item:only-child::after {width: 0;}#sk-container-id-14 div.sk-dashed-wrapped {border: 1px dashed gray;margin: 0 0.4em 0.5em 0.4em;box-sizing: border-box;padding-bottom: 0.4em;background-color: white;}#sk-container-id-14 div.sk-label label {font-family: monospace;font-weight: bold;display: inline-block;line-height: 1.2em;}#sk-container-id-14 div.sk-label-container {text-align: center;}#sk-container-id-14 div.sk-container {/* jupyter's `normalize.less` sets `[hidden] { display: none; }` but bootstrap.min.css set `[hidden] { display: none !important; }` so we also need the `!important` here to be able to override the default hidden behavior on the sphinx rendered scikit-learn.org. See: https://github.com/scikit-learn/scikit-learn/issues/21755 */display: inline-block !important;position: relative;}#sk-container-id-14 div.sk-text-repr-fallback {display: none;}</style><div id=\"sk-container-id-14\" class=\"sk-top-container\"><div class=\"sk-text-repr-fallback\"><pre>OneHotEncoder(handle_unknown=&#x27;ignore&#x27;, sparse=False, sparse_output=False)</pre><b>In a Jupyter environment, please rerun this cell to show the HTML representation or trust the notebook. <br />On GitHub, the HTML representation is unable to render, please try loading this page with nbviewer.org.</b></div><div class=\"sk-container\" hidden><div class=\"sk-item\"><div class=\"sk-estimator sk-toggleable\"><input class=\"sk-toggleable__control sk-hidden--visually\" id=\"sk-estimator-id-14\" type=\"checkbox\" checked><label for=\"sk-estimator-id-14\" class=\"sk-toggleable__label sk-toggleable__label-arrow\">OneHotEncoder</label><div class=\"sk-toggleable__content\"><pre>OneHotEncoder(handle_unknown=&#x27;ignore&#x27;, sparse=False, sparse_output=False)</pre></div></div></div></div></div>"
            ]
          },
          "metadata": {},
          "execution_count": 332
        }
      ],
      "source": [
        "one_hot_encoder = OneHotEncoder(sparse=False, handle_unknown='ignore')\n",
        "one_hot_encoder.fit(X_train[nominal_feature])"
      ]
    },
    {
      "cell_type": "code",
      "execution_count": 333,
      "id": "566294b1",
      "metadata": {
        "id": "566294b1"
      },
      "outputs": [],
      "source": [
        "one_hot_feature = []\n",
        "for i, feature in enumerate(nominal_feature):\n",
        "    for cate in one_hot_encoder.categories_[i]:\n",
        "        one_hot_feature_name = str(feature) + '_' + str(cate)\n",
        "        one_hot_feature.append(one_hot_feature_name)"
      ]
    },
    {
      "cell_type": "code",
      "execution_count": 334,
      "id": "2ab774d5",
      "metadata": {
        "id": "2ab774d5"
      },
      "outputs": [],
      "source": [
        "X_train[one_hot_feature] = one_hot_encoder.transform(X_train[nominal_feature])\n",
        "X_train.drop(nominal_feature, axis=1, inplace=True)"
      ]
    },
    {
      "cell_type": "markdown",
      "id": "124e5fd1",
      "metadata": {
        "id": "124e5fd1"
      },
      "source": [
        "### 5.2.2. Test Set"
      ]
    },
    {
      "cell_type": "code",
      "execution_count": 335,
      "id": "8a4db1a5",
      "metadata": {
        "id": "8a4db1a5"
      },
      "outputs": [],
      "source": [
        "X_test[one_hot_feature] = one_hot_encoder.transform(X_test[nominal_feature])\n",
        "X_test.drop(nominal_feature, axis=1, inplace=True)"
      ]
    },
    {
      "cell_type": "markdown",
      "id": "ac95a8bd",
      "metadata": {
        "id": "ac95a8bd"
      },
      "source": [
        "# 6. Model Creation"
      ]
    },
    {
      "cell_type": "code",
      "execution_count": 337,
      "id": "14d6b77e",
      "metadata": {
        "colab": {
          "base_uri": "https://localhost:8080/",
          "height": 75
        },
        "id": "14d6b77e",
        "outputId": "969af250-65ad-4c1b-f939-4a6524147342"
      },
      "outputs": [
        {
          "output_type": "execute_result",
          "data": {
            "text/plain": [
              "LinearRegression()"
            ],
            "text/html": [
              "<style>#sk-container-id-15 {color: black;background-color: white;}#sk-container-id-15 pre{padding: 0;}#sk-container-id-15 div.sk-toggleable {background-color: white;}#sk-container-id-15 label.sk-toggleable__label {cursor: pointer;display: block;width: 100%;margin-bottom: 0;padding: 0.3em;box-sizing: border-box;text-align: center;}#sk-container-id-15 label.sk-toggleable__label-arrow:before {content: \"▸\";float: left;margin-right: 0.25em;color: #696969;}#sk-container-id-15 label.sk-toggleable__label-arrow:hover:before {color: black;}#sk-container-id-15 div.sk-estimator:hover label.sk-toggleable__label-arrow:before {color: black;}#sk-container-id-15 div.sk-toggleable__content {max-height: 0;max-width: 0;overflow: hidden;text-align: left;background-color: #f0f8ff;}#sk-container-id-15 div.sk-toggleable__content pre {margin: 0.2em;color: black;border-radius: 0.25em;background-color: #f0f8ff;}#sk-container-id-15 input.sk-toggleable__control:checked~div.sk-toggleable__content {max-height: 200px;max-width: 100%;overflow: auto;}#sk-container-id-15 input.sk-toggleable__control:checked~label.sk-toggleable__label-arrow:before {content: \"▾\";}#sk-container-id-15 div.sk-estimator input.sk-toggleable__control:checked~label.sk-toggleable__label {background-color: #d4ebff;}#sk-container-id-15 div.sk-label input.sk-toggleable__control:checked~label.sk-toggleable__label {background-color: #d4ebff;}#sk-container-id-15 input.sk-hidden--visually {border: 0;clip: rect(1px 1px 1px 1px);clip: rect(1px, 1px, 1px, 1px);height: 1px;margin: -1px;overflow: hidden;padding: 0;position: absolute;width: 1px;}#sk-container-id-15 div.sk-estimator {font-family: monospace;background-color: #f0f8ff;border: 1px dotted black;border-radius: 0.25em;box-sizing: border-box;margin-bottom: 0.5em;}#sk-container-id-15 div.sk-estimator:hover {background-color: #d4ebff;}#sk-container-id-15 div.sk-parallel-item::after {content: \"\";width: 100%;border-bottom: 1px solid gray;flex-grow: 1;}#sk-container-id-15 div.sk-label:hover label.sk-toggleable__label {background-color: #d4ebff;}#sk-container-id-15 div.sk-serial::before {content: \"\";position: absolute;border-left: 1px solid gray;box-sizing: border-box;top: 0;bottom: 0;left: 50%;z-index: 0;}#sk-container-id-15 div.sk-serial {display: flex;flex-direction: column;align-items: center;background-color: white;padding-right: 0.2em;padding-left: 0.2em;position: relative;}#sk-container-id-15 div.sk-item {position: relative;z-index: 1;}#sk-container-id-15 div.sk-parallel {display: flex;align-items: stretch;justify-content: center;background-color: white;position: relative;}#sk-container-id-15 div.sk-item::before, #sk-container-id-15 div.sk-parallel-item::before {content: \"\";position: absolute;border-left: 1px solid gray;box-sizing: border-box;top: 0;bottom: 0;left: 50%;z-index: -1;}#sk-container-id-15 div.sk-parallel-item {display: flex;flex-direction: column;z-index: 1;position: relative;background-color: white;}#sk-container-id-15 div.sk-parallel-item:first-child::after {align-self: flex-end;width: 50%;}#sk-container-id-15 div.sk-parallel-item:last-child::after {align-self: flex-start;width: 50%;}#sk-container-id-15 div.sk-parallel-item:only-child::after {width: 0;}#sk-container-id-15 div.sk-dashed-wrapped {border: 1px dashed gray;margin: 0 0.4em 0.5em 0.4em;box-sizing: border-box;padding-bottom: 0.4em;background-color: white;}#sk-container-id-15 div.sk-label label {font-family: monospace;font-weight: bold;display: inline-block;line-height: 1.2em;}#sk-container-id-15 div.sk-label-container {text-align: center;}#sk-container-id-15 div.sk-container {/* jupyter's `normalize.less` sets `[hidden] { display: none; }` but bootstrap.min.css set `[hidden] { display: none !important; }` so we also need the `!important` here to be able to override the default hidden behavior on the sphinx rendered scikit-learn.org. See: https://github.com/scikit-learn/scikit-learn/issues/21755 */display: inline-block !important;position: relative;}#sk-container-id-15 div.sk-text-repr-fallback {display: none;}</style><div id=\"sk-container-id-15\" class=\"sk-top-container\"><div class=\"sk-text-repr-fallback\"><pre>LinearRegression()</pre><b>In a Jupyter environment, please rerun this cell to show the HTML representation or trust the notebook. <br />On GitHub, the HTML representation is unable to render, please try loading this page with nbviewer.org.</b></div><div class=\"sk-container\" hidden><div class=\"sk-item\"><div class=\"sk-estimator sk-toggleable\"><input class=\"sk-toggleable__control sk-hidden--visually\" id=\"sk-estimator-id-15\" type=\"checkbox\" checked><label for=\"sk-estimator-id-15\" class=\"sk-toggleable__label sk-toggleable__label-arrow\">LinearRegression</label><div class=\"sk-toggleable__content\"><pre>LinearRegression()</pre></div></div></div></div></div>"
            ]
          },
          "metadata": {},
          "execution_count": 337
        }
      ],
      "source": [
        "reg = LinearRegression()\n",
        "reg.fit(X_train, y_train)"
      ]
    },
    {
      "cell_type": "code",
      "execution_count": 338,
      "id": "e783de1a",
      "metadata": {
        "colab": {
          "base_uri": "https://localhost:8080/"
        },
        "id": "e783de1a",
        "outputId": "6d5d27de-36ec-45a2-b1d2-995122acb98f"
      },
      "outputs": [
        {
          "output_type": "execute_result",
          "data": {
            "text/plain": [
              "15.599996404636313"
            ]
          },
          "metadata": {},
          "execution_count": 338
        }
      ],
      "source": [
        "reg.intercept_"
      ]
    },
    {
      "cell_type": "code",
      "execution_count": 339,
      "id": "a95fc172",
      "metadata": {
        "colab": {
          "base_uri": "https://localhost:8080/"
        },
        "id": "a95fc172",
        "outputId": "a66b82fe-f61b-4215-e85e-dcf9c22fb41d"
      },
      "outputs": [
        {
          "output_type": "execute_result",
          "data": {
            "text/plain": [
              "array([-3.37598741, -1.90065498,  0.96968685,  1.27990538, -6.30806327,\n",
              "        2.77334502,  2.25481287])"
            ]
          },
          "metadata": {},
          "execution_count": 339
        }
      ],
      "source": [
        "reg.coef_"
      ]
    },
    {
      "cell_type": "markdown",
      "id": "7773add6",
      "metadata": {
        "id": "7773add6"
      },
      "source": [
        "# 7. Prediction"
      ]
    },
    {
      "cell_type": "markdown",
      "id": "de81d999",
      "metadata": {
        "id": "de81d999"
      },
      "source": [
        "## 7.1. Training Set"
      ]
    },
    {
      "cell_type": "code",
      "execution_count": 340,
      "id": "1bba38df",
      "metadata": {
        "id": "1bba38df"
      },
      "outputs": [],
      "source": [
        "y_pred_train = reg.predict(X_train)"
      ]
    },
    {
      "cell_type": "markdown",
      "id": "564e4218",
      "metadata": {
        "id": "564e4218"
      },
      "source": [
        "## 7.2. Test Set"
      ]
    },
    {
      "cell_type": "code",
      "execution_count": 341,
      "id": "0cae11fd",
      "metadata": {
        "id": "0cae11fd"
      },
      "outputs": [],
      "source": [
        "y_pred_test = reg.predict(X_test)"
      ]
    },
    {
      "cell_type": "markdown",
      "id": "89f353c1",
      "metadata": {
        "id": "89f353c1"
      },
      "source": [
        "# 8. Model Evaluation"
      ]
    },
    {
      "cell_type": "markdown",
      "id": "b1a69d56",
      "metadata": {
        "id": "b1a69d56"
      },
      "source": [
        "## 8.1. Training Set"
      ]
    },
    {
      "cell_type": "markdown",
      "id": "032b92a2",
      "metadata": {
        "id": "032b92a2"
      },
      "source": [
        "### 8.1.1. Scoring"
      ]
    },
    {
      "cell_type": "code",
      "execution_count": 342,
      "id": "09b678ee",
      "metadata": {
        "colab": {
          "base_uri": "https://localhost:8080/"
        },
        "id": "09b678ee",
        "outputId": "2068f388-f77e-487f-c3b4-db25d27e5dc7"
      },
      "outputs": [
        {
          "output_type": "stream",
          "name": "stdout",
          "text": [
            "r2_score =\t\t\t 0.9888797894246566\n",
            "mean_squared_error =\t\t 0.3292848691844302\n",
            "mean_absolute_error =\t\t 0.39795996577498327\n",
            "mean_absolute_percentage_error = 0.28885229454281697\n"
          ]
        }
      ],
      "source": [
        "print('r2_score =\\t\\t\\t', r2_score(y_train, y_pred_train))\n",
        "print('mean_squared_error =\\t\\t', mean_squared_error(y_train, y_pred_train))\n",
        "print('mean_absolute_error =\\t\\t', mean_absolute_error(y_train, y_pred_train))\n",
        "print('mean_absolute_percentage_error =', mean_absolute_percentage_error(y_train, y_pred_train))"
      ]
    },
    {
      "cell_type": "markdown",
      "id": "7506de0d",
      "metadata": {
        "id": "7506de0d"
      },
      "source": [
        "### 8.1.2. Scatter Plot between Predicted & Actual Values"
      ]
    },
    {
      "cell_type": "code",
      "execution_count": 343,
      "id": "8fa5258d",
      "metadata": {
        "colab": {
          "base_uri": "https://localhost:8080/",
          "height": 489
        },
        "id": "8fa5258d",
        "outputId": "0845303b-42bb-407d-e060-8f45426477c4"
      },
      "outputs": [
        {
          "output_type": "execute_result",
          "data": {
            "text/plain": [
              "Text(0, 0.5, 'Actual')"
            ]
          },
          "metadata": {},
          "execution_count": 343
        },
        {
          "output_type": "display_data",
          "data": {
            "text/plain": [
              "<Figure size 640x480 with 1 Axes>"
            ],
            "image/png": "[encoded data removed]"
          },
          "metadata": {}
        }
      ],
      "source": [
        "plt.scatter(y_pred_train, y_train)\n",
        "\n",
        "plt.plot(y_pred_train, y_pred_train, color='red')\n",
        "\n",
        "plt.title('Scatter Plot between Predicted & Actual Values')\n",
        "plt.xlabel('Predicted')\n",
        "plt.ylabel('Actual')"
      ]
    },
    {
      "cell_type": "markdown",
      "id": "1a77d5e8",
      "metadata": {
        "id": "1a77d5e8"
      },
      "source": [
        "## 8.2. Test Set"
      ]
    },
    {
      "cell_type": "markdown",
      "id": "22e65b36",
      "metadata": {
        "id": "22e65b36"
      },
      "source": [
        "### 8.2.1. Scoring"
      ]
    },
    {
      "cell_type": "code",
      "execution_count": 344,
      "id": "c6533454",
      "metadata": {
        "colab": {
          "base_uri": "https://localhost:8080/"
        },
        "id": "c6533454",
        "outputId": "1b6a2934-1ffe-4b1e-88b4-beae5625a552"
      },
      "outputs": [
        {
          "output_type": "stream",
          "name": "stdout",
          "text": [
            "r2_score =\t\t\t 0.9901959840908796\n",
            "mean_squared_error =\t\t 0.1769589419862183\n",
            "mean_absolute_error =\t\t 0.3349266410936961\n",
            "mean_absolute_percentage_error = 0.041137593197438295\n"
          ]
        }
      ],
      "source": [
        "print('r2_score =\\t\\t\\t', r2_score(y_test, y_pred_test))\n",
        "print('mean_squared_error =\\t\\t', mean_squared_error(y_test, y_pred_test))\n",
        "print('mean_absolute_error =\\t\\t', mean_absolute_error(y_test, y_pred_test))\n",
        "print('mean_absolute_percentage_error =', mean_absolute_percentage_error(y_test, y_pred_test))"
      ]
    },
    {
      "cell_type": "markdown",
      "id": "ec755fc4",
      "metadata": {
        "id": "ec755fc4"
      },
      "source": [
        "### 8.2.2. Scatter Plot between Predicted & Actual Values"
      ]
    },
    {
      "cell_type": "code",
      "execution_count": 345,
      "id": "8019e76c",
      "metadata": {
        "scrolled": true,
        "colab": {
          "base_uri": "https://localhost:8080/",
          "height": 489
        },
        "id": "8019e76c",
        "outputId": "12757e94-7fd7-45a6-cd7b-cd2e4891cfbf"
      },
      "outputs": [
        {
          "output_type": "execute_result",
          "data": {
            "text/plain": [
              "Text(0, 0.5, 'Actual')"
            ]
          },
          "metadata": {},
          "execution_count": 345
        },
        {
          "output_type": "display_data",
          "data": {
            "text/plain": [
              "<Figure size 640x480 with 1 Axes>"
            ],
            "image/png": "[encoded data removed]"
          },
          "metadata": {}
        }
      ],
      "source": [
        "plt.scatter(y_pred_test, y_test)\n",
        "\n",
        "plt.plot(y_pred_test, y_pred_test, color='red')\n",
        "\n",
        "plt.title('Scatter Plot between Predicted & Actual Values')\n",
        "plt.xlabel('Predicted')\n",
        "plt.ylabel('Actual')"
      ]
    },
    {
      "cell_type": "markdown",
      "id": "0747ee18",
      "metadata": {
        "id": "0747ee18"
      },
      "source": [
        "# 9. Save Model"
      ]
    },
    {
      "cell_type": "code",
      "execution_count": 347,
      "id": "e0931392",
      "metadata": {
        "id": "e0931392"
      },
      "outputs": [],
      "source": [
        "import pickle"
      ]
    },
    {
      "cell_type": "code",
      "execution_count": 348,
      "id": "26a60a32",
      "metadata": {
        "id": "26a60a32"
      },
      "outputs": [],
      "source": [
        "pickle.dump((reg,\n",
        "             ordinal_encoder,\n",
        "             one_hot_encoder,\n",
        "             feature_name,\n",
        "             numerical_feature,\n",
        "             ordinal_feature,\n",
        "             nominal_feature),\n",
        "            open('rice_model.pickle', 'wb'))"
      ]
    },
    {
      "cell_type": "code",
      "source": [
        "saved_model = pickle.load(open('rice_model.pickle', 'rb'))"
      ],
      "metadata": {
        "id": "oKlYyG2W55MD"
      },
      "id": "oKlYyG2W55MD",
      "execution_count": 349,
      "outputs": []
    },
    {
      "cell_type": "code",
      "source": [
        "reg = saved_model[0]\n",
        "ordinal_encoder = saved_model[1]\n",
        "one_hot_encoder = saved_model[2]\n",
        "feature_name = saved_model[3]\n",
        "numerical_feature = saved_model[4]\n",
        "ordinal_feature = saved_model[5]\n",
        "nominal_feature = saved_model[6]"
      ],
      "metadata": {
        "id": "m1Nf24vf6IyS"
      },
      "id": "m1Nf24vf6IyS",
      "execution_count": 350,
      "outputs": []
    },
    {
      "cell_type": "code",
      "source": [
        "feature_name"
      ],
      "metadata": {
        "colab": {
          "base_uri": "https://localhost:8080/"
        },
        "id": "NMAuLU8k6LgC",
        "outputId": "7a0efdd5-bae2-457d-fb49-e3dbbd61f1e7"
      },
      "id": "NMAuLU8k6LgC",
      "execution_count": 351,
      "outputs": [
        {
          "output_type": "execute_result",
          "data": {
            "text/plain": [
              "['SOIL TYPE', 'REGION', 'TEMPERATURE', 'WEATHER CONDITION']"
            ]
          },
          "metadata": {},
          "execution_count": 351
        }
      ]
    },
    {
      "cell_type": "code",
      "source": [
        "SOIL_TYPE = 'HUMID'\n",
        "REGION = 'DESERT'\n",
        "TEMPERATURE = '30-40'\n",
        "WEATHER_CONDITION = 'NORMAL'"
      ],
      "metadata": {
        "id": "cwknUfvc6MMK"
      },
      "id": "cwknUfvc6MMK",
      "execution_count": 352,
      "outputs": []
    },
    {
      "cell_type": "code",
      "source": [
        "incoming_data = pd.DataFrame(np.array([[SOIL_TYPE, REGION, TEMPERATURE, WEATHER_CONDITION]]),\n",
        "                             columns=feature_name)\n",
        "\n",
        "incoming_data"
      ],
      "metadata": {
        "colab": {
          "base_uri": "https://localhost:8080/",
          "height": 81
        },
        "id": "7NdTXbnJ6R0A",
        "outputId": "0d62efc1-2ab9-4e6a-dbd9-d3b2056eabe6"
      },
      "id": "7NdTXbnJ6R0A",
      "execution_count": 353,
      "outputs": [
        {
          "output_type": "execute_result",
          "data": {
            "text/plain": [
              "  SOIL TYPE  REGION TEMPERATURE WEATHER CONDITION\n",
              "0     HUMID  DESERT       30-40            NORMAL"
            ],
            "text/html": [
              "\n",
              "  <div id=\"df-e9b81346-c768-42c5-9fc2-648b6d30d233\" class=\"colab-df-container\">\n",
              "    <div>\n",
              "<style scoped>\n",
              "    .dataframe tbody tr th:only-of-type {\n",
              "        vertical-align: middle;\n",
              "    }\n",
              "\n",
              "    .dataframe tbody tr th {\n",
              "        vertical-align: top;\n",
              "    }\n",
              "\n",
              "    .dataframe thead th {\n",
              "        text-align: right;\n",
              "    }\n",
              "</style>\n",
              "<table border=\"1\" class=\"dataframe\">\n",
              "  <thead>\n",
              "    <tr style=\"text-align: right;\">\n",
              "      <th></th>\n",
              "      <th>SOIL TYPE</th>\n",
              "      <th>REGION</th>\n",
              "      <th>TEMPERATURE</th>\n",
              "      <th>WEATHER CONDITION</th>\n",
              "    </tr>\n",
              "  </thead>\n",
              "  <tbody>\n",
              "    <tr>\n",
              "      <th>0</th>\n",
              "      <td>HUMID</td>\n",
              "      <td>DESERT</td>\n",
              "      <td>30-40</td>\n",
              "      <td>NORMAL</td>\n",
              "    </tr>\n",
              "  </tbody>\n",
              "</table>\n",
              "</div>\n",
              "    <div class=\"colab-df-buttons\">\n",
              "\n",
              "  <div class=\"colab-df-container\">\n",
              "    <button class=\"colab-df-convert\" onclick=\"convertToInteractive('df-e9b81346-c768-42c5-9fc2-648b6d30d233')\"\n",
              "            title=\"Convert this dataframe to an interactive table.\"\n",
              "            style=\"display:none;\">\n",
              "\n",
              "  <svg xmlns=\"http://www.w3.org/2000/svg\" height=\"24px\" viewBox=\"0 -960 960 960\">\n",
              "    <path d=\"M120-120v-720h720v720H120Zm60-500h600v-160H180v160Zm220 220h160v-160H400v160Zm0 220h160v-160H400v160ZM180-400h160v-160H180v160Zm440 0h160v-160H620v160ZM180-180h160v-160H180v160Zm440 0h160v-160H620v160Z\"/>\n",
              "  </svg>\n",
              "    </button>\n",
              "\n",
              "  <style>\n",
              "    .colab-df-container {\n",
              "      display:flex;\n",
              "      gap: 12px;\n",
              "    }\n",
              "\n",
              "    .colab-df-convert {\n",
              "      background-color: #E8F0FE;\n",
              "      border: none;\n",
              "      border-radius: 50%;\n",
              "      cursor: pointer;\n",
              "      display: none;\n",
              "      fill: #1967D2;\n",
              "      height: 32px;\n",
              "      padding: 0 0 0 0;\n",
              "      width: 32px;\n",
              "    }\n",
              "\n",
              "    .colab-df-convert:hover {\n",
              "      background-color: #E2EBFA;\n",
              "      box-shadow: 0px 1px 2px rgba(60, 64, 67, 0.3), 0px 1px 3px 1px rgba(60, 64, 67, 0.15);\n",
              "      fill: #174EA6;\n",
              "    }\n",
              "\n",
              "    .colab-df-buttons div {\n",
              "      margin-bottom: 4px;\n",
              "    }\n",
              "\n",
              "    [theme=dark] .colab-df-convert {\n",
              "      background-color: #3B4455;\n",
              "      fill: #D2E3FC;\n",
              "    }\n",
              "\n",
              "    [theme=dark] .colab-df-convert:hover {\n",
              "      background-color: #434B5C;\n",
              "      box-shadow: 0px 1px 3px 1px rgba(0, 0, 0, 0.15);\n",
              "      filter: drop-shadow(0px 1px 2px rgba(0, 0, 0, 0.3));\n",
              "      fill: #FFFFFF;\n",
              "    }\n",
              "  </style>\n",
              "\n",
              "    <script>\n",
              "      const buttonEl =\n",
              "        document.querySelector('#df-e9b81346-c768-42c5-9fc2-648b6d30d233 button.colab-df-convert');\n",
              "      buttonEl.style.display =\n",
              "        google.colab.kernel.accessAllowed ? 'block' : 'none';\n",
              "\n",
              "      async function convertToInteractive(key) {\n",
              "        const element = document.querySelector('#df-e9b81346-c768-42c5-9fc2-648b6d30d233');\n",
              "        const dataTable =\n",
              "          await google.colab.kernel.invokeFunction('convertToInteractive',\n",
              "                                                    [key], {});\n",
              "        if (!dataTable) return;\n",
              "\n",
              "        const docLinkHtml = 'Like what you see? Visit the ' +\n",
              "          '<a target=\"_blank\" href=https://colab.research.google.com/notebooks/data_table.ipynb>data table notebook</a>'\n",
              "          + ' to learn more about interactive tables.';\n",
              "        element.innerHTML = '';\n",
              "        dataTable['output_type'] = 'display_data';\n",
              "        await google.colab.output.renderOutput(dataTable, element);\n",
              "        const docLink = document.createElement('div');\n",
              "        docLink.innerHTML = docLinkHtml;\n",
              "        element.appendChild(docLink);\n",
              "      }\n",
              "    </script>\n",
              "  </div>\n",
              "\n",
              "    </div>\n",
              "  </div>\n"
            ]
          },
          "metadata": {},
          "execution_count": 353
        }
      ]
    },
    {
      "cell_type": "code",
      "source": [
        "print('numerical_feature :', numerical_feature)\n",
        "print('ordinal_feature :', ordinal_feature)\n",
        "print('nominal_feature :', nominal_feature)"
      ],
      "metadata": {
        "colab": {
          "base_uri": "https://localhost:8080/"
        },
        "id": "IfdGemPl6U-I",
        "outputId": "d381d971-9dcd-49ae-c7de-1d85d6d3c69d"
      },
      "id": "IfdGemPl6U-I",
      "execution_count": 354,
      "outputs": [
        {
          "output_type": "stream",
          "name": "stdout",
          "text": [
            "numerical_feature : []\n",
            "ordinal_feature : ['SOIL TYPE', 'REGION', 'TEMPERATURE']\n",
            "nominal_feature : ['WEATHER CONDITION']\n"
          ]
        }
      ]
    },
    {
      "cell_type": "code",
      "source": [
        "incoming_data[ordinal_feature] = ordinal_encoder.transform(incoming_data[ordinal_feature])"
      ],
      "metadata": {
        "id": "OCs0G2C86YP4"
      },
      "id": "OCs0G2C86YP4",
      "execution_count": 355,
      "outputs": []
    },
    {
      "cell_type": "code",
      "source": [
        "\n",
        "one_hot_feature = []\n",
        "for i, feature in enumerate(nominal_feature):\n",
        "    for cate in one_hot_encoder.categories_[i]:\n",
        "        one_hot_feature_name = str(feature) + '_' + str(cate)\n",
        "        one_hot_feature.append(one_hot_feature_name)\n",
        "\n",
        "incoming_data[one_hot_feature] = one_hot_encoder.transform(incoming_data[nominal_feature])\n",
        "incoming_data.drop(nominal_feature, axis=1, inplace=True)"
      ],
      "metadata": {
        "id": "BpNWlThL6a2Y"
      },
      "id": "BpNWlThL6a2Y",
      "execution_count": 356,
      "outputs": []
    },
    {
      "cell_type": "code",
      "source": [
        "incoming_data"
      ],
      "metadata": {
        "colab": {
          "base_uri": "https://localhost:8080/",
          "height": 98
        },
        "id": "e783Xr5Z6djg",
        "outputId": "4e9a85d1-08a5-4251-df60-2f265c8ae2c3"
      },
      "id": "e783Xr5Z6djg",
      "execution_count": 357,
      "outputs": [
        {
          "output_type": "execute_result",
          "data": {
            "text/plain": [
              "   SOIL TYPE  REGION  TEMPERATURE  WEATHER CONDITION_NORMAL  \\\n",
              "0        1.0     0.0          2.0                       1.0   \n",
              "\n",
              "   WEATHER CONDITION_RAINY  WEATHER CONDITION_SUNNY  WEATHER CONDITION_WINDY  \n",
              "0                      0.0                      0.0                      0.0  "
            ],
            "text/html": [
              "\n",
              "  <div id=\"df-250350c5-9d0f-4b8e-95e2-61e953ffb5f9\" class=\"colab-df-container\">\n",
              "    <div>\n",
              "<style scoped>\n",
              "    .dataframe tbody tr th:only-of-type {\n",
              "        vertical-align: middle;\n",
              "    }\n",
              "\n",
              "    .dataframe tbody tr th {\n",
              "        vertical-align: top;\n",
              "    }\n",
              "\n",
              "    .dataframe thead th {\n",
              "        text-align: right;\n",
              "    }\n",
              "</style>\n",
              "<table border=\"1\" class=\"dataframe\">\n",
              "  <thead>\n",
              "    <tr style=\"text-align: right;\">\n",
              "      <th></th>\n",
              "      <th>SOIL TYPE</th>\n",
              "      <th>REGION</th>\n",
              "      <th>TEMPERATURE</th>\n",
              "      <th>WEATHER CONDITION_NORMAL</th>\n",
              "      <th>WEATHER CONDITION_RAINY</th>\n",
              "      <th>WEATHER CONDITION_SUNNY</th>\n",
              "      <th>WEATHER CONDITION_WINDY</th>\n",
              "    </tr>\n",
              "  </thead>\n",
              "  <tbody>\n",
              "    <tr>\n",
              "      <th>0</th>\n",
              "      <td>1.0</td>\n",
              "      <td>0.0</td>\n",
              "      <td>2.0</td>\n",
              "      <td>1.0</td>\n",
              "      <td>0.0</td>\n",
              "      <td>0.0</td>\n",
              "      <td>0.0</td>\n",
              "    </tr>\n",
              "  </tbody>\n",
              "</table>\n",
              "</div>\n",
              "    <div class=\"colab-df-buttons\">\n",
              "\n",
              "  <div class=\"colab-df-container\">\n",
              "    <button class=\"colab-df-convert\" onclick=\"convertToInteractive('df-250350c5-9d0f-4b8e-95e2-61e953ffb5f9')\"\n",
              "            title=\"Convert this dataframe to an interactive table.\"\n",
              "            style=\"display:none;\">\n",
              "\n",
              "  <svg xmlns=\"http://www.w3.org/2000/svg\" height=\"24px\" viewBox=\"0 -960 960 960\">\n",
              "    <path d=\"M120-120v-720h720v720H120Zm60-500h600v-160H180v160Zm220 220h160v-160H400v160Zm0 220h160v-160H400v160ZM180-400h160v-160H180v160Zm440 0h160v-160H620v160ZM180-180h160v-160H180v160Zm440 0h160v-160H620v160Z\"/>\n",
              "  </svg>\n",
              "    </button>\n",
              "\n",
              "  <style>\n",
              "    .colab-df-container {\n",
              "      display:flex;\n",
              "      gap: 12px;\n",
              "    }\n",
              "\n",
              "    .colab-df-convert {\n",
              "      background-color: #E8F0FE;\n",
              "      border: none;\n",
              "      border-radius: 50%;\n",
              "      cursor: pointer;\n",
              "      display: none;\n",
              "      fill: #1967D2;\n",
              "      height: 32px;\n",
              "      padding: 0 0 0 0;\n",
              "      width: 32px;\n",
              "    }\n",
              "\n",
              "    .colab-df-convert:hover {\n",
              "      background-color: #E2EBFA;\n",
              "      box-shadow: 0px 1px 2px rgba(60, 64, 67, 0.3), 0px 1px 3px 1px rgba(60, 64, 67, 0.15);\n",
              "      fill: #174EA6;\n",
              "    }\n",
              "\n",
              "    .colab-df-buttons div {\n",
              "      margin-bottom: 4px;\n",
              "    }\n",
              "\n",
              "    [theme=dark] .colab-df-convert {\n",
              "      background-color: #3B4455;\n",
              "      fill: #D2E3FC;\n",
              "    }\n",
              "\n",
              "    [theme=dark] .colab-df-convert:hover {\n",
              "      background-color: #434B5C;\n",
              "      box-shadow: 0px 1px 3px 1px rgba(0, 0, 0, 0.15);\n",
              "      filter: drop-shadow(0px 1px 2px rgba(0, 0, 0, 0.3));\n",
              "      fill: #FFFFFF;\n",
              "    }\n",
              "  </style>\n",
              "\n",
              "    <script>\n",
              "      const buttonEl =\n",
              "        document.querySelector('#df-250350c5-9d0f-4b8e-95e2-61e953ffb5f9 button.colab-df-convert');\n",
              "      buttonEl.style.display =\n",
              "        google.colab.kernel.accessAllowed ? 'block' : 'none';\n",
              "\n",
              "      async function convertToInteractive(key) {\n",
              "        const element = document.querySelector('#df-250350c5-9d0f-4b8e-95e2-61e953ffb5f9');\n",
              "        const dataTable =\n",
              "          await google.colab.kernel.invokeFunction('convertToInteractive',\n",
              "                                                    [key], {});\n",
              "        if (!dataTable) return;\n",
              "\n",
              "        const docLinkHtml = 'Like what you see? Visit the ' +\n",
              "          '<a target=\"_blank\" href=https://colab.research.google.com/notebooks/data_table.ipynb>data table notebook</a>'\n",
              "          + ' to learn more about interactive tables.';\n",
              "        element.innerHTML = '';\n",
              "        dataTable['output_type'] = 'display_data';\n",
              "        await google.colab.output.renderOutput(dataTable, element);\n",
              "        const docLink = document.createElement('div');\n",
              "        docLink.innerHTML = docLinkHtml;\n",
              "        element.appendChild(docLink);\n",
              "      }\n",
              "    </script>\n",
              "  </div>\n",
              "\n",
              "    </div>\n",
              "  </div>\n"
            ]
          },
          "metadata": {},
          "execution_count": 357
        }
      ]
    },
    {
      "cell_type": "code",
      "source": [
        "predicted_target = reg.predict(incoming_data)"
      ],
      "metadata": {
        "id": "e3BW9Htk6ft0"
      },
      "id": "e3BW9Htk6ft0",
      "execution_count": 358,
      "outputs": []
    },
    {
      "cell_type": "code",
      "source": [
        "predicted_target"
      ],
      "metadata": {
        "colab": {
          "base_uri": "https://localhost:8080/"
        },
        "id": "PK7JSXBi6msE",
        "outputId": "dcc73f25-4c0e-4348-bcb8-0b4db08776d0"
      },
      "id": "PK7JSXBi6msE",
      "execution_count": 359,
      "outputs": [
        {
          "output_type": "execute_result",
          "data": {
            "text/plain": [
              "array([15.44328807])"
            ]
          },
          "metadata": {},
          "execution_count": 359
        }
      ]
    }
  ],
  "metadata": {
    "kernelspec": {
      "display_name": "Python 3",
      "language": "python",
      "name": "python3"
    },
    "language_info": {
      "codemirror_mode": {
        "name": "ipython",
        "version": 3
      },
      "file_extension": ".py",
      "mimetype": "text/x-python",
      "name": "python",
      "nbconvert_exporter": "python",
      "pygments_lexer": "ipython3",
      "version": "3.8.8"
    },
    "colab": {
      "provenance": [],
      "include_colab_link": true
    }
  },
  "nbformat": 4,
  "nbformat_minor": 5
}